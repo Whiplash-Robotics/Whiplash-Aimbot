{
 "cells": [
  {
   "cell_type": "markdown",
   "metadata": {},
   "source": [
    "### RUN ALL TESTS"
   ]
  },
  {
   "cell_type": "code",
   "execution_count": null,
   "metadata": {},
   "outputs": [],
   "source": [
    "from ultralytics import YOLO\n",
    "import torch\n",
    "import os"
   ]
  },
  {
   "cell_type": "code",
   "execution_count": null,
   "metadata": {},
   "outputs": [],
   "source": [
    "model_paths = [\n",
    "    \"/models/YOLO11n/yolo11n.pt\",\n",
    "    \"/models/YOLO11s/yolo11s.pt\",\n",
    "    \"/models/YOLOv10n/yolov10n.pt\",\n",
    "    \"/models/YOLOv8n/yolov8n.pt\",\n",
    "    \"/models/YOLOv6-3.0n/yolov6n_seg.pt\",\n",
    "    \"/models/YOLOv5s/yolov5s.pt\",\n",
    "    \"/models/YOLOv5n/yolov5n.pt\",\n",
    "    \"/models/DAMO-YOLO-t/damoyolo_tinynasL20_T_436.pth\", # damoyolo_tinynasL20_T_420.pth\n",
    "]\n",
    "\n",
    "# Dataset path\n",
    "DATASET_PATH = \"D:/Coding/Whiplash/yolo-benchmarking/data/data.yaml\"\n",
    "\n",
    "# Directory to save logs\n",
    "log_dir = \"D:/Coding/Whiplash/yolo-benchmarking/logs\"\n",
    "os.makedirs(log_dir, exist_ok=True)\n",
    "\n",
    "# List available devices\n",
    "print(\"Available devices:\")\n",
    "if torch.cuda.is_available():\n",
    "    print(f\"CUDA Device: {torch.cuda.get_device_name(0)}\")\n",
    "else:\n",
    "    print(\"CPU only\")"
   ]
  },
  {
   "cell_type": "code",
   "execution_count": null,
   "metadata": {},
   "outputs": [],
   "source": [
    "def run_model(model_path):\n",
    "    model = YOLO(model_path)\n",
    "    device = \"0\" if torch.cuda.is_available() else \"cpu\"\n",
    "    \n",
    "    # Train the model\n",
    "    # You can update dataset download and runs directory in 'C:\\Users\\<USER>\\AppData\\Roaming\\Ultralytics\\settings.json'\n",
    "    train_results = model.train(\n",
    "        data=DATASET_PATH,\n",
    "        epochs=100,\n",
    "        imgsz=640,\n",
    "        device=device,\n",
    "    )\n",
    "    \n",
    "    # Evaluate model performance\n",
    "    metrics = model.val()\n",
    "    \n",
    "    # Export the model to ONNX format\n",
    "    export_path = model.export(format=\"onnx\")\n",
    "    \n",
    "    # Log results\n",
    "    log_file = os.path.join(log_dir, f\"{os.path.basename(model_path)}_log.txt\")\n",
    "    with open(log_file, \"w\") as f:\n",
    "        f.write(f\"Model Path: {model_path}\\n\")\n",
    "        f.write(f\"Export Path: {export_path}\\n\")\n",
    "        f.write(f\"Training Results: {train_results}\\n\")\n",
    "        f.write(f\"Validation Metrics: {metrics}\\n\")\n",
    "        print(f\"Results logged to {log_file}\")\n",
    "\n",
    "for model_path in model_paths:\n",
    "    run_model(model_path)"
   ]
  }
 ],
 "metadata": {
  "kernelspec": {
   "display_name": ".venv",
   "language": "python",
   "name": "python3"
  },
  "language_info": {
   "codemirror_mode": {
    "name": "ipython",
    "version": 3
   },
   "file_extension": ".py",
   "mimetype": "text/x-python",
   "name": "python",
   "nbconvert_exporter": "python",
   "pygments_lexer": "ipython3",
   "version": "3.9.13"
  }
 },
 "nbformat": 4,
 "nbformat_minor": 2
}
