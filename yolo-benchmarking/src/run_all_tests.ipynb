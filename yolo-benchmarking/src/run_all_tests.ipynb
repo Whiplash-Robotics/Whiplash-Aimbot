{
 "cells": [
  {
   "cell_type": "markdown",
   "metadata": {},
   "source": [
    "### RUN ALL TESTS"
   ]
  },
  {
   "cell_type": "code",
   "execution_count": 1,
   "metadata": {},
   "outputs": [],
   "source": [
    "from ultralytics import YOLO\n",
    "import torch\n",
    "import os"
   ]
  },
  {
   "cell_type": "code",
   "execution_count": null,
   "metadata": {},
   "outputs": [
    {
     "name": "stdout",
     "output_type": "stream",
     "text": [
      "Available devices:\n",
      "CUDA Device: NVIDIA GeForce RTX 3060\n"
     ]
    }
   ],
   "source": [
    "model_paths = [\n",
    "    # \"/models/YOLO11n/yolo11n.pt\",\n",
    "    \"/models/YOLO11s/yolo11s.pt\",\n",
    "    \"/models/YOLOv10n/yolov10n.pt\",\n",
    "    \"/models/YOLOv8n/yolov8n.pt\",\n",
    "    \"/models/YOLOv6-3.0n/yolov6n_seg.pt\",\n",
    "    \"/models/YOLOv5s/yolov5s.pt\",\n",
    "    \"/models/YOLOv5n/yolov5n.pt\",\n",
    "    \"/models/DAMO-YOLO-t/damoyolo_tinynasL20_T_436.pth\", # damoyolo_tinynasL20_T_420.pth\n",
    "]\n",
    "\n",
    "# Dataset path\n",
    "DATASET_PATH = \"D:/Coding/Whiplash/yolo-benchmarking/data/data.yaml\"\n",
    "\n",
    "# Directory to save logs\n",
    "log_dir = \"D:/Coding/Whiplash/yolo-benchmarking/logs\"\n",
    "os.makedirs(log_dir, exist_ok=True)\n",
    "\n",
    "# List available devices\n",
    "print(\"Available devices:\")\n",
    "if torch.cuda.is_available():\n",
    "    print(f\"CUDA Device: {torch.cuda.get_device_name(0)}\")\n",
    "else:\n",
    "    print(\"CPU only\")"
   ]
  },
  {
   "cell_type": "code",
   "execution_count": null,
   "metadata": {},
   "outputs": [
    {
     "name": "stdout",
     "output_type": "stream",
     "text": [
      "New https://pypi.org/project/ultralytics/8.3.141 available  Update with 'pip install -U ultralytics'\n",
      "Ultralytics 8.3.99  Python-3.9.13 torch-2.0.1+cu117 CUDA:0 (NVIDIA GeForce RTX 3060, 12288MiB)\n",
      "\u001b[34m\u001b[1mengine\\trainer: \u001b[0mtask=detect, mode=train, model=/models/YOLO11n/yolo11n.pt, data=D:/Coding/Whiplash/yolo-benchmarking/data/data.yaml, epochs=100, time=None, patience=100, batch=16, imgsz=640, save=True, save_period=-1, cache=False, device=0, workers=8, project=None, name=train5, exist_ok=False, pretrained=True, optimizer=auto, verbose=True, seed=0, deterministic=True, single_cls=False, rect=False, cos_lr=False, close_mosaic=10, resume=False, amp=True, fraction=1.0, profile=False, freeze=None, multi_scale=False, overlap_mask=True, mask_ratio=4, dropout=0.0, val=True, split=val, save_json=False, save_hybrid=False, conf=None, iou=0.7, max_det=300, half=False, dnn=False, plots=True, source=None, vid_stride=1, stream_buffer=False, visualize=False, augment=False, agnostic_nms=False, classes=None, retina_masks=False, embed=None, show=False, save_frames=False, save_txt=False, save_conf=False, save_crop=False, show_labels=True, show_conf=True, show_boxes=True, line_width=None, format=torchscript, keras=False, optimize=False, int8=False, dynamic=False, simplify=True, opset=None, workspace=None, nms=False, lr0=0.01, lrf=0.01, momentum=0.937, weight_decay=0.0005, warmup_epochs=3.0, warmup_momentum=0.8, warmup_bias_lr=0.1, box=7.5, cls=0.5, dfl=1.5, pose=12.0, kobj=1.0, nbs=64, hsv_h=0.015, hsv_s=0.7, hsv_v=0.4, degrees=0.0, translate=0.1, scale=0.5, shear=0.0, perspective=0.0, flipud=0.0, fliplr=0.5, bgr=0.0, mosaic=1.0, mixup=0.0, copy_paste=0.0, copy_paste_mode=flip, auto_augment=randaugment, erasing=0.4, crop_fraction=1.0, cfg=None, tracker=botsort.yaml, save_dir=D:\\Coding\\Whiplash\\yolo-benchmarking\\runs\\detect\\train5\n",
      "Overriding model.yaml nc=80 with nc=4\n",
      "\n",
      "                   from  n    params  module                                       arguments                     \n",
      "  0                  -1  1       464  ultralytics.nn.modules.conv.Conv             [3, 16, 3, 2]                 \n",
      "  1                  -1  1      4672  ultralytics.nn.modules.conv.Conv             [16, 32, 3, 2]                \n",
      "  2                  -1  1      6640  ultralytics.nn.modules.block.C3k2            [32, 64, 1, False, 0.25]      \n",
      "  3                  -1  1     36992  ultralytics.nn.modules.conv.Conv             [64, 64, 3, 2]                \n",
      "  4                  -1  1     26080  ultralytics.nn.modules.block.C3k2            [64, 128, 1, False, 0.25]     \n",
      "  5                  -1  1    147712  ultralytics.nn.modules.conv.Conv             [128, 128, 3, 2]              \n",
      "  6                  -1  1     87040  ultralytics.nn.modules.block.C3k2            [128, 128, 1, True]           \n",
      "  7                  -1  1    295424  ultralytics.nn.modules.conv.Conv             [128, 256, 3, 2]              \n",
      "  8                  -1  1    346112  ultralytics.nn.modules.block.C3k2            [256, 256, 1, True]           \n",
      "  9                  -1  1    164608  ultralytics.nn.modules.block.SPPF            [256, 256, 5]                 \n",
      " 10                  -1  1    249728  ultralytics.nn.modules.block.C2PSA           [256, 256, 1]                 \n",
      " 11                  -1  1         0  torch.nn.modules.upsampling.Upsample         [None, 2, 'nearest']          \n",
      " 12             [-1, 6]  1         0  ultralytics.nn.modules.conv.Concat           [1]                           \n",
      " 13                  -1  1    111296  ultralytics.nn.modules.block.C3k2            [384, 128, 1, False]          \n",
      " 14                  -1  1         0  torch.nn.modules.upsampling.Upsample         [None, 2, 'nearest']          \n",
      " 15             [-1, 4]  1         0  ultralytics.nn.modules.conv.Concat           [1]                           \n",
      " 16                  -1  1     32096  ultralytics.nn.modules.block.C3k2            [256, 64, 1, False]           \n",
      " 17                  -1  1     36992  ultralytics.nn.modules.conv.Conv             [64, 64, 3, 2]                \n",
      " 18            [-1, 13]  1         0  ultralytics.nn.modules.conv.Concat           [1]                           \n",
      " 19                  -1  1     86720  ultralytics.nn.modules.block.C3k2            [192, 128, 1, False]          \n",
      " 20                  -1  1    147712  ultralytics.nn.modules.conv.Conv             [128, 128, 3, 2]              \n",
      " 21            [-1, 10]  1         0  ultralytics.nn.modules.conv.Concat           [1]                           \n",
      " 22                  -1  1    378880  ultralytics.nn.modules.block.C3k2            [384, 256, 1, True]           \n",
      " 23        [16, 19, 22]  1    431452  ultralytics.nn.modules.head.Detect           [4, [64, 128, 256]]           \n",
      "YOLO11n summary: 181 layers, 2,590,620 parameters, 2,590,604 gradients, 6.4 GFLOPs\n",
      "\n",
      "Transferred 448/499 items from pretrained weights\n",
      "Freezing layer 'model.23.dfl.conv.weight'\n",
      "\u001b[34m\u001b[1mAMP: \u001b[0mrunning Automatic Mixed Precision (AMP) checks...\n",
      "\u001b[34m\u001b[1mAMP: \u001b[0mchecks passed \n"
     ]
    },
    {
     "name": "stderr",
     "output_type": "stream",
     "text": [
      "\u001b[34m\u001b[1mtrain: \u001b[0mScanning D:\\Coding\\Whiplash\\yolo-benchmarking\\data\\train\\labels.cache... 6306 images, 0 backgrounds, 0 corrupt: 100%|██████████| 6306/6306 [00:00<?, ?it/s]\n",
      "\u001b[34m\u001b[1mval: \u001b[0mScanning D:\\Coding\\Whiplash\\yolo-benchmarking\\data\\valid\\labels.cache... 1950 images, 0 backgrounds, 0 corrupt: 100%|██████████| 1950/1950 [00:00<?, ?it/s]\n"
     ]
    }
   ],
   "source": [
    "def run_model(model_path):\n",
    "    model = YOLO(model_path)\n",
    "    device = \"0\" if torch.cuda.is_available() else \"cpu\"\n",
    "    \n",
    "    # Train the model\n",
    "    # You can update dataset download and runs directory in 'C:\\Users\\<USER>\\AppData\\Roaming\\Ultralytics\\settings.json'\n",
    "    train_results = model.train(\n",
    "        data=DATASET_PATH,\n",
    "        epochs=100,\n",
    "        imgsz=640,\n",
    "        device=device,\n",
    "    )\n",
    "    \n",
    "    # Evaluate model performance\n",
    "    metrics = model.val()\n",
    "    \n",
    "    # Export the model to ONNX format\n",
    "    export_path = model.export(format=\"onnx\")\n",
    "    \n",
    "    # Log results\n",
    "    log_file = os.path.join(log_dir, f\"{os.path.basename(model_path)}_log.txt\")\n",
    "    with open(log_file, \"w\") as f:\n",
    "        f.write(f\"Model Path: {model_path}\\n\")\n",
    "        f.write(f\"Export Path: {export_path}\\n\")\n",
    "        f.write(f\"Training Results: {train_results}\\n\")\n",
    "        f.write(f\"Validation Metrics: {metrics}\\n\")\n",
    "        print(f\"Results logged to {log_file}\")\n",
    "\n",
    "for model_path in model_paths:\n",
    "    run_model(model_path)"
   ]
  }
 ],
 "metadata": {
  "kernelspec": {
   "display_name": ".venv",
   "language": "python",
   "name": "python3"
  },
  "language_info": {
   "codemirror_mode": {
    "name": "ipython",
    "version": 3
   },
   "file_extension": ".py",
   "mimetype": "text/x-python",
   "name": "python",
   "nbconvert_exporter": "python",
   "pygments_lexer": "ipython3",
   "version": "3.9.13"
  }
 },
 "nbformat": 4,
 "nbformat_minor": 2
}
